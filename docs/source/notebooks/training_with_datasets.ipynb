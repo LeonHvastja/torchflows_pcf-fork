{
 "cells": [
  {
   "metadata": {},
   "cell_type": "markdown",
   "source": [
    "# Training a normalizing flow\n",
    "\n",
    "This notebook explores how we can use Torchflows to train a normalizing flow given a dataset.\n",
    "\n",
    "## Basic training\n",
    "In the cell below, we generate a synthetic dataset of 50-dimensional vectors. We then create a RealNVP model and fit it to the dataset. "
   ],
   "id": "6affa6cc0fccc1fe"
  },
  {
   "cell_type": "code",
   "id": "initial_id",
   "metadata": {
    "collapsed": true,
    "ExecuteTime": {
     "end_time": "2024-08-13T16:03:55.165346Z",
     "start_time": "2024-08-13T16:03:45.176180Z"
    }
   },
   "source": [
    "import torch\n",
    "from torchflows.flows import Flow\n",
    "from torchflows.architectures import RealNVP\n",
    "\n",
    "torch.manual_seed(0)  # random seed for reproducibility\n",
    "event_shape = (50,)  # shape of data points\n",
    "x_train = torch.randn(1000, *event_shape) * 5 + 7  # generate the dataset\n",
    "flow = Flow(RealNVP(event_shape=event_shape))  # create the flow\n",
    "flow.fit(x_train, show_progress=True)  # train the flow"
   ],
   "outputs": [
    {
     "name": "stderr",
     "output_type": "stream",
     "text": [
      "Fitting NF: 100%|██████████| 500/500 [00:08<00:00, 62.07it/s, Training loss (batch): 3.0298]\n"
     ]
    }
   ],
   "execution_count": 1
  },
  {
   "metadata": {},
   "cell_type": "markdown",
   "source": [
    "## Early stopping with validation data\n",
    "\n",
    "If we have access to a validation set, we can automatically stop training when validation loss stops decreasing. In the cell below, we stop training when the validation loss has not decreased for 50 consecutive training steps."
   ],
   "id": "5e24490fe6ec39d3"
  },
  {
   "metadata": {
    "ExecuteTime": {
     "end_time": "2024-08-13T16:04:45.588546Z",
     "start_time": "2024-08-13T16:04:16.213016Z"
    }
   },
   "cell_type": "code",
   "source": [
    "torch.manual_seed(0)\n",
    "x_val = torch.randn(200, *event_shape) * 5 + 7\n",
    "flow = Flow(RealNVP(event_shape=event_shape))\n",
    "flow.fit(x_train, x_val=x_val, early_stopping=True, early_stopping_threshold=50, show_progress=True, n_epochs=10000)"
   ],
   "id": "5bb26f3529695c1c",
   "outputs": [
    {
     "name": "stderr",
     "output_type": "stream",
     "text": [
      "Fitting NF:  14%|█▎        | 1360/10000 [00:29<03:06, 46.32it/s, Training loss (batch): 3.0288, Validation loss: 3.0304 [best: 3.0295 @ 1309]]\n"
     ]
    }
   ],
   "execution_count": 3
  }
 ],
 "metadata": {
  "kernelspec": {
   "display_name": "Python 3",
   "language": "python",
   "name": "python3"
  },
  "language_info": {
   "codemirror_mode": {
    "name": "ipython",
    "version": 2
   },
   "file_extension": ".py",
   "mimetype": "text/x-python",
   "name": "python",
   "nbconvert_exporter": "python",
   "pygments_lexer": "ipython2",
   "version": "2.7.6"
  }
 },
 "nbformat": 4,
 "nbformat_minor": 5
}
