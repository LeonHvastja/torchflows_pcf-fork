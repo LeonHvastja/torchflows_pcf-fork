{
 "cells": [
  {
   "metadata": {},
   "cell_type": "markdown",
   "source": [
    "# Image modeling with normalizing flows\n",
    "\n",
    "When working with images, we can use specialized multiscale flow architectures. We can also use standard normalizing flows, which internally work with a flattened image. Note that multiscale architectures expect input images with shape `(channels, height, width)`."
   ],
   "id": "df68afe10da259a1"
  },
  {
   "metadata": {
    "ExecuteTime": {
     "end_time": "2024-08-13T17:20:05.803231Z",
     "start_time": "2024-08-13T17:20:03.001656Z"
    }
   },
   "cell_type": "code",
   "source": [
    "from torchvision.datasets import MNIST\n",
    "import torch\n",
    "\n",
    "torch.manual_seed(0)\n",
    "\n",
    "# pip install torchvision\n",
    "dataset = MNIST(root='./data', download=True, train=True)\n",
    "train_data = dataset.data.float()[:, None]\n",
    "train_data = train_data[torch.randperm(len(train_data))]\n",
    "train_data = (train_data - torch.mean(train_data)) / torch.std(train_data)\n",
    "x_train, x_val = train_data[:1000], train_data[1000:1200]\n",
    "\n",
    "print(f'{x_train.shape = }')\n",
    "print(f'{x_val.shape = }')\n",
    "\n",
    "image_shape = train_data.shape[1:]\n",
    "print(f'{image_shape = }')"
   ],
   "id": "b4d5e1888ff6a0e7",
   "outputs": [
    {
     "name": "stdout",
     "output_type": "stream",
     "text": [
      "x_train.shape = torch.Size([1000, 1, 28, 28])\n",
      "x_val.shape = torch.Size([200, 1, 28, 28])\n",
      "image_shape = torch.Size([1, 28, 28])\n"
     ]
    }
   ],
   "execution_count": 1
  },
  {
   "metadata": {
    "ExecuteTime": {
     "end_time": "2024-08-13T17:20:06.058329Z",
     "start_time": "2024-08-13T17:20:05.891695Z"
    }
   },
   "cell_type": "code",
   "source": [
    "from torchflows.flows import Flow\n",
    "from torchflows.architectures import RealNVP, MultiscaleRealNVP\n",
    "\n",
    "real_nvp = Flow(RealNVP(image_shape))\n",
    "multiscale_real_nvp = Flow(MultiscaleRealNVP(image_shape))"
   ],
   "id": "744513899ffa6a46",
   "outputs": [],
   "execution_count": 2
  },
  {
   "metadata": {
    "ExecuteTime": {
     "end_time": "2024-08-13T17:26:11.651540Z",
     "start_time": "2024-08-13T17:20:06.378393Z"
    }
   },
   "cell_type": "code",
   "source": [
    "real_nvp.fit(x_train, x_val=x_val, early_stopping=True, show_progress=True)\n",
    "multiscale_real_nvp.fit(x_train, x_val=x_val, early_stopping=True, show_progress=True)"
   ],
   "id": "7a439e2565ce5a25",
   "outputs": [
    {
     "name": "stderr",
     "output_type": "stream",
     "text": [
      "Fitting NF:  30%|███       | 151/500 [00:18<00:42,  8.30it/s, Training loss (batch): -0.2608, Validation loss: 1.3448 [best: 0.1847 @ 100]] \n",
      "Fitting NF:  30%|███       | 152/500 [05:47<13:14,  2.28s/it, Training loss (batch): -0.3050, Validation loss: 0.9754 [best: 0.1744 @ 101]]   \n"
     ]
    }
   ],
   "execution_count": 3
  },
  {
   "metadata": {
    "ExecuteTime": {
     "end_time": "2024-08-13T17:26:11.699539Z",
     "start_time": "2024-08-13T17:26:11.686539Z"
    }
   },
   "cell_type": "code",
   "source": "",
   "id": "c38fc6cc58bdc0b2",
   "outputs": [],
   "execution_count": null
  }
 ],
 "metadata": {
  "kernelspec": {
   "display_name": "Python 3",
   "language": "python",
   "name": "python3"
  },
  "language_info": {
   "codemirror_mode": {
    "name": "ipython",
    "version": 2
   },
   "file_extension": ".py",
   "mimetype": "text/x-python",
   "name": "python",
   "nbconvert_exporter": "python",
   "pygments_lexer": "ipython2",
   "version": "2.7.6"
  }
 },
 "nbformat": 4,
 "nbformat_minor": 5
}
