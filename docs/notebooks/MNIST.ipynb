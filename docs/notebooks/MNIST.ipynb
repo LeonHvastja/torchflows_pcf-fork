{
 "cells": [
  {
   "cell_type": "code",
   "id": "initial_id",
   "metadata": {
    "collapsed": true,
    "ExecuteTime": {
     "end_time": "2024-08-30T15:11:39.705430Z",
     "start_time": "2024-08-30T15:11:36.646915Z"
    }
   },
   "source": [
    "import matplotlib.pyplot as plt\n",
    "import torch\n",
    "from torchflows.flows import Flow\n",
    "from torchflows.architectures import MultiscaleRealNVP\n",
    "\n",
    "from torchvision.datasets import MNIST"
   ],
   "outputs": [],
   "execution_count": 1
  },
  {
   "metadata": {
    "ExecuteTime": {
     "end_time": "2024-08-30T15:11:40.777876Z",
     "start_time": "2024-08-30T15:11:39.710431Z"
    }
   },
   "cell_type": "code",
   "source": [
    "torch.manual_seed(0)\n",
    "\n",
    "train_dataset = MNIST(root='./data', train=True, download=True)\n",
    "data_constraint = 0.9\n",
    "\n",
    "x = train_dataset.data.float()\n",
    "y = (x + torch.rand_like(x)) / 256.\n",
    "y = (2 * y - 1) * data_constraint\n",
    "y = (y + 1) / 2\n",
    "y = y.log() - (1. - y).log()\n",
    "y = y[:, None]\n",
    "y = torch.concat([y, torch.randn_like(y)], dim=1)  # Auxiliary Gaussian channel dimensions\n",
    "# y = (y - torch.mean(y)) / torch.std(y)\n",
    "# y = torch.nn.functional.pad(y, [2, 2, 2, 2])\n",
    "\n",
    "train_data = y[:50000]\n",
    "validation_data = y[50000:]"
   ],
   "id": "51636bf2dddb1fa1",
   "outputs": [],
   "execution_count": 2
  },
  {
   "metadata": {
    "ExecuteTime": {
     "end_time": "2024-08-30T15:11:40.919287Z",
     "start_time": "2024-08-30T15:11:40.905414Z"
    }
   },
   "cell_type": "code",
   "source": "y.shape",
   "id": "6d49b5c9a93f2699",
   "outputs": [
    {
     "data": {
      "text/plain": [
       "torch.Size([60000, 2, 28, 28])"
      ]
     },
     "execution_count": 3,
     "metadata": {},
     "output_type": "execute_result"
    }
   ],
   "execution_count": 3
  },
  {
   "metadata": {
    "ExecuteTime": {
     "end_time": "2024-08-30T15:56:58.351957Z",
     "start_time": "2024-08-30T15:11:40.996413Z"
    }
   },
   "cell_type": "code",
   "source": [
    "torch.manual_seed(0)\n",
    "flow = Flow(MultiscaleRealNVP(event_shape=train_data.shape[1:])).cuda()\n",
    "flow.fit(x_train=train_data, x_val=validation_data, show_progress=True, early_stopping=True, batch_size='adaptive')"
   ],
   "id": "d630e341d5471a8f",
   "outputs": [
    {
     "name": "stderr",
     "output_type": "stream",
     "text": [
      "Fitting NF:  73%|███████▎  | 367/500 [45:17<16:24,  7.40s/it, Training loss (batch): 0.6879, Validation loss: 0.7043 [best: 0.2577 @ 316]]\n"
     ]
    }
   ],
   "execution_count": 4
  },
  {
   "metadata": {
    "ExecuteTime": {
     "end_time": "2024-08-30T16:48:10.812621Z",
     "start_time": "2024-08-30T16:48:10.516652Z"
    }
   },
   "cell_type": "code",
   "source": [
    "torch.manual_seed(0)\n",
    "x_flow = flow.sample((100,))[:, 0].detach().cpu()\n",
    "\n",
    "plt.matshow(x_flow[8], cmap='gray');"
   ],
   "id": "87a588361a15ede6",
   "outputs": [
    {
     "data": {
      "text/plain": [
       "<Figure size 480x480 with 1 Axes>"
      ],
      "image/png": "[encoded data removed]"
     },
     "metadata": {},
     "output_type": "display_data"
    }
   ],
   "execution_count": 81
  }
 ],
 "metadata": {
  "kernelspec": {
   "display_name": "Python 3",
   "language": "python",
   "name": "python3"
  },
  "language_info": {
   "codemirror_mode": {
    "name": "ipython",
    "version": 2
   },
   "file_extension": ".py",
   "mimetype": "text/x-python",
   "name": "python",
   "nbconvert_exporter": "python",
   "pygments_lexer": "ipython2",
   "version": "2.7.6"
  }
 },
 "nbformat": 4,
 "nbformat_minor": 5
}
