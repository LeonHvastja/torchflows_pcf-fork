{
 "cells": [
  {
   "metadata": {},
   "cell_type": "markdown",
   "source": [
    "# Creating and modifying bijection architectures\n",
    "\n",
    "We give an example on how to modify a bijection's architecture.\n",
    "We use the Masked Autoregressive Flow (MAF) as an example.\n",
    "We can manually set the number of invertible layers as follows:"
   ],
   "id": "816b6834787d3345"
  },
  {
   "metadata": {
    "ExecuteTime": {
     "end_time": "2024-08-13T16:36:31.907537Z",
     "start_time": "2024-08-13T16:36:30.468390Z"
    }
   },
   "cell_type": "code",
   "source": [
    "from torchflows.architectures import MAF\n",
    "\n",
    "event_shape = (10,)\n",
    "architecture = MAF(event_shape=event_shape, n_layers=5)"
   ],
   "id": "66ac0baadcdbc9e7",
   "outputs": [],
   "execution_count": 1
  },
  {
   "metadata": {},
   "cell_type": "markdown",
   "source": [
    "For specific changes, we can create individual invertible layers and combine them into a bijection.\n",
    "MAF uses affine masked autoregressive layers with permutations in between.\n",
    "We can import these layers set their parameters as desired.\n",
    "For example, to change the number of layers in the MAF conditioner and its hidden layer sizes, we proceed as follows:\n"
   ],
   "id": "55ca1607131cabe"
  },
  {
   "metadata": {
    "ExecuteTime": {
     "end_time": "2024-08-13T16:36:31.922917Z",
     "start_time": "2024-08-13T16:36:31.912398Z"
    }
   },
   "cell_type": "code",
   "source": [
    "from torchflows.bijections import BijectiveComposition\n",
    "from torchflows.bijections.finite.autoregressive.layers import AffineForwardMaskedAutoregressive\n",
    "from torchflows.bijections.finite.linear import ReversePermutation\n",
    "\n",
    "event_shape = (10,)\n",
    "architecture = BijectiveComposition(\n",
    "    event_shape=event_shape,\n",
    "    layers=[\n",
    "        AffineForwardMaskedAutoregressive(event_shape=event_shape, n_layers=4, n_hidden=20),\n",
    "        ReversePermutation(event_shape=event_shape),\n",
    "        AffineForwardMaskedAutoregressive(event_shape=event_shape, n_layers=3, n_hidden=7),\n",
    "        ReversePermutation(event_shape=event_shape),\n",
    "        AffineForwardMaskedAutoregressive(event_shape=event_shape, n_layers=5, n_hidden=13)\n",
    "    ]\n",
    ")"
   ],
   "id": "6c3cd341625f2ee4",
   "outputs": [],
   "execution_count": 2
  }
 ],
 "metadata": {
  "kernelspec": {
   "display_name": "Python 3",
   "language": "python",
   "name": "python3"
  },
  "language_info": {
   "codemirror_mode": {
    "name": "ipython",
    "version": 2
   },
   "file_extension": ".py",
   "mimetype": "text/x-python",
   "name": "python",
   "nbconvert_exporter": "python",
   "pygments_lexer": "ipython2",
   "version": "2.7.6"
  }
 },
 "nbformat": 4,
 "nbformat_minor": 5
}
