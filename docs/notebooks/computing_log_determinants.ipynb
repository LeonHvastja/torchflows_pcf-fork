{
 "cells": [
  {
   "metadata": {},
   "cell_type": "markdown",
   "source": [
    "# Computing the log determinant of the Jacobian\n",
    "\n",
    "We show how to compute and retrieve the log determinant of the Jacobian of a bijective transformation. We use Real NVP as an example."
   ],
   "id": "624f99599895f0fd"
  },
  {
   "metadata": {
    "ExecuteTime": {
     "end_time": "2024-08-13T16:39:40.646799Z",
     "start_time": "2024-08-13T16:39:38.868039Z"
    }
   },
   "cell_type": "code",
   "source": [
    "import torch\n",
    "from torchflows import Flow\n",
    "from torchflows.architectures import RealNVP\n",
    "\n",
    "torch.manual_seed(0)\n",
    "\n",
    "batch_shape = (5, 7)\n",
    "event_shape = (2, 3)\n",
    "x = torch.randn(size=(*batch_shape, *event_shape))\n",
    "z = torch.randn(size=(*batch_shape, *event_shape))\n",
    "\n",
    "bijection = RealNVP(event_shape=event_shape)\n",
    "flow = Flow(bijection)\n",
    "\n",
    "_, log_det_forward = flow.bijection.forward(x)\n",
    "_, log_det_inverse = flow.bijection.inverse(z)"
   ],
   "id": "3f74b61a9929dd3b",
   "outputs": [],
   "execution_count": 1
  },
  {
   "metadata": {
    "ExecuteTime": {
     "end_time": "2024-08-13T16:39:40.662420Z",
     "start_time": "2024-08-13T16:39:40.653696Z"
    }
   },
   "cell_type": "code",
   "source": [
    "print(f'{log_det_forward.shape = }')\n",
    "print(f'{log_det_inverse.shape = }')"
   ],
   "id": "3c49e132d9c041c2",
   "outputs": [
    {
     "name": "stdout",
     "output_type": "stream",
     "text": [
      "log_det_forward.shape = torch.Size([5, 7])\n",
      "log_det_inverse.shape = torch.Size([5, 7])\n"
     ]
    }
   ],
   "execution_count": 2
  }
 ],
 "metadata": {
  "kernelspec": {
   "display_name": "Python 3",
   "language": "python",
   "name": "python3"
  },
  "language_info": {
   "codemirror_mode": {
    "name": "ipython",
    "version": 2
   },
   "file_extension": ".py",
   "mimetype": "text/x-python",
   "name": "python",
   "nbconvert_exporter": "python",
   "pygments_lexer": "ipython2",
   "version": "2.7.6"
  }
 },
 "nbformat": 4,
 "nbformat_minor": 5
}
